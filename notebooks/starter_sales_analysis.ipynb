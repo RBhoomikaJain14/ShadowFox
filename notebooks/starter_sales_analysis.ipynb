{
 "cells": [
  {
   "cell_type": "markdown",
   "id": "f107466e",
   "metadata": {},
   "source": [
    "# Project: Sales Data Analysis (Starter Notebook)\n",
    "\n",
    "**Objective:** Example notebook to show how to explore a dataset, ask research questions, and visualize results.\n",
    "\n",
    "## Folder structure\n",
    "- `/data` : raw datasets (sample_sales.csv)\n",
    "- `/notebooks` : Jupyter notebooks\n",
    "- `/scripts` : helper scripts\n",
    "- `/outputs` : figures and exported results\n",
    "\n",
    "## How to run\n",
    "1. Open this notebook in JupyterLab or Jupyter Notebook.\n",
    "2. Install requirements: `pip install pandas matplotlib seaborn notebook`.\n",
    "\n",
    "----\n"
   ]
  },
  {
   "cell_type": "code",
   "execution_count": 1,
   "id": "22a724e4",
   "metadata": {},
   "outputs": [
    {
     "data": {
      "text/html": [
       "<div>\n",
       "<style scoped>\n",
       "    .dataframe tbody tr th:only-of-type {\n",
       "        vertical-align: middle;\n",
       "    }\n",
       "\n",
       "    .dataframe tbody tr th {\n",
       "        vertical-align: top;\n",
       "    }\n",
       "\n",
       "    .dataframe thead th {\n",
       "        text-align: right;\n",
       "    }\n",
       "</style>\n",
       "<table border=\"1\" class=\"dataframe\">\n",
       "  <thead>\n",
       "    <tr style=\"text-align: right;\">\n",
       "      <th></th>\n",
       "      <th>transaction_id</th>\n",
       "      <th>date</th>\n",
       "      <th>gross_sales</th>\n",
       "      <th>COGS</th>\n",
       "      <th>manufacturing_cost</th>\n",
       "      <th>freight_cost</th>\n",
       "      <th>net_sales</th>\n",
       "      <th>profit</th>\n",
       "    </tr>\n",
       "  </thead>\n",
       "  <tbody>\n",
       "    <tr>\n",
       "      <th>0</th>\n",
       "      <td>1001</td>\n",
       "      <td>2023-01-01</td>\n",
       "      <td>1000.00</td>\n",
       "      <td>450.00</td>\n",
       "      <td>50</td>\n",
       "      <td>5</td>\n",
       "      <td>495.00</td>\n",
       "      <td>495.00</td>\n",
       "    </tr>\n",
       "    <tr>\n",
       "      <th>1</th>\n",
       "      <td>1002</td>\n",
       "      <td>2023-01-01</td>\n",
       "      <td>1623.45</td>\n",
       "      <td>780.55</td>\n",
       "      <td>60</td>\n",
       "      <td>7</td>\n",
       "      <td>775.90</td>\n",
       "      <td>775.90</td>\n",
       "    </tr>\n",
       "    <tr>\n",
       "      <th>2</th>\n",
       "      <td>1003</td>\n",
       "      <td>2023-01-01</td>\n",
       "      <td>2246.90</td>\n",
       "      <td>1111.11</td>\n",
       "      <td>70</td>\n",
       "      <td>9</td>\n",
       "      <td>1056.79</td>\n",
       "      <td>1056.79</td>\n",
       "    </tr>\n",
       "    <tr>\n",
       "      <th>3</th>\n",
       "      <td>1004</td>\n",
       "      <td>2023-01-04</td>\n",
       "      <td>1000.00</td>\n",
       "      <td>450.00</td>\n",
       "      <td>50</td>\n",
       "      <td>5</td>\n",
       "      <td>495.00</td>\n",
       "      <td>495.00</td>\n",
       "    </tr>\n",
       "    <tr>\n",
       "      <th>4</th>\n",
       "      <td>1005</td>\n",
       "      <td>2023-01-04</td>\n",
       "      <td>1623.45</td>\n",
       "      <td>780.55</td>\n",
       "      <td>60</td>\n",
       "      <td>7</td>\n",
       "      <td>775.90</td>\n",
       "      <td>775.90</td>\n",
       "    </tr>\n",
       "  </tbody>\n",
       "</table>\n",
       "</div>"
      ],
      "text/plain": [
       "   transaction_id        date  gross_sales     COGS  manufacturing_cost  \\\n",
       "0            1001  2023-01-01      1000.00   450.00                  50   \n",
       "1            1002  2023-01-01      1623.45   780.55                  60   \n",
       "2            1003  2023-01-01      2246.90  1111.11                  70   \n",
       "3            1004  2023-01-04      1000.00   450.00                  50   \n",
       "4            1005  2023-01-04      1623.45   780.55                  60   \n",
       "\n",
       "   freight_cost  net_sales   profit  \n",
       "0             5     495.00   495.00  \n",
       "1             7     775.90   775.90  \n",
       "2             9    1056.79  1056.79  \n",
       "3             5     495.00   495.00  \n",
       "4             7     775.90   775.90  "
      ]
     },
     "execution_count": 1,
     "metadata": {},
     "output_type": "execute_result"
    }
   ],
   "source": [
    "# Imports\n",
    "import pandas as pd\n",
    "import matplotlib.pyplot as plt\n",
    "import seaborn as sns\n",
    "from pathlib import Path\n",
    "\n",
    "DATA_PATH = Path('../data/sample_sales.csv')  # adjust if opened from /notebooks\n",
    "df = pd.read_csv(DATA_PATH)\n",
    "df.head()\n"
   ]
  },
  {
   "cell_type": "markdown",
   "id": "c44c2d98",
   "metadata": {},
   "source": [
    "## Quick EDA\n",
    "- Check missing values\n",
    "- Summary statistics\n",
    "- Time series of gross and net sales\n"
   ]
  },
  {
   "cell_type": "code",
   "execution_count": 2,
   "id": "7ef0b583",
   "metadata": {},
   "outputs": [
    {
     "name": "stdout",
     "output_type": "stream",
     "text": [
      "Shape: (30, 8)\n",
      "\n",
      "Missing values:\n",
      " transaction_id        0\n",
      "date                  0\n",
      "gross_sales           0\n",
      "COGS                  0\n",
      "manufacturing_cost    0\n",
      "freight_cost          0\n",
      "net_sales             0\n",
      "profit                0\n",
      "dtype: int64\n"
     ]
    },
    {
     "data": {
      "text/html": [
       "<div>\n",
       "<style scoped>\n",
       "    .dataframe tbody tr th:only-of-type {\n",
       "        vertical-align: middle;\n",
       "    }\n",
       "\n",
       "    .dataframe tbody tr th {\n",
       "        vertical-align: top;\n",
       "    }\n",
       "\n",
       "    .dataframe thead th {\n",
       "        text-align: right;\n",
       "    }\n",
       "</style>\n",
       "<table border=\"1\" class=\"dataframe\">\n",
       "  <thead>\n",
       "    <tr style=\"text-align: right;\">\n",
       "      <th></th>\n",
       "      <th>transaction_id</th>\n",
       "      <th>gross_sales</th>\n",
       "      <th>COGS</th>\n",
       "      <th>manufacturing_cost</th>\n",
       "      <th>freight_cost</th>\n",
       "      <th>net_sales</th>\n",
       "      <th>profit</th>\n",
       "    </tr>\n",
       "  </thead>\n",
       "  <tbody>\n",
       "    <tr>\n",
       "      <th>count</th>\n",
       "      <td>30.000000</td>\n",
       "      <td>30.000000</td>\n",
       "      <td>30.000000</td>\n",
       "      <td>30.000000</td>\n",
       "      <td>30.00000</td>\n",
       "      <td>30.000000</td>\n",
       "      <td>30.000000</td>\n",
       "    </tr>\n",
       "    <tr>\n",
       "      <th>mean</th>\n",
       "      <td>1015.500000</td>\n",
       "      <td>1623.450000</td>\n",
       "      <td>780.553333</td>\n",
       "      <td>60.000000</td>\n",
       "      <td>7.00000</td>\n",
       "      <td>775.896667</td>\n",
       "      <td>775.896667</td>\n",
       "    </tr>\n",
       "    <tr>\n",
       "      <th>std</th>\n",
       "      <td>8.803408</td>\n",
       "      <td>517.747044</td>\n",
       "      <td>274.510986</td>\n",
       "      <td>8.304548</td>\n",
       "      <td>1.66091</td>\n",
       "      <td>233.270601</td>\n",
       "      <td>233.270601</td>\n",
       "    </tr>\n",
       "    <tr>\n",
       "      <th>min</th>\n",
       "      <td>1001.000000</td>\n",
       "      <td>1000.000000</td>\n",
       "      <td>450.000000</td>\n",
       "      <td>50.000000</td>\n",
       "      <td>5.00000</td>\n",
       "      <td>495.000000</td>\n",
       "      <td>495.000000</td>\n",
       "    </tr>\n",
       "    <tr>\n",
       "      <th>25%</th>\n",
       "      <td>1008.250000</td>\n",
       "      <td>1000.000000</td>\n",
       "      <td>450.000000</td>\n",
       "      <td>50.000000</td>\n",
       "      <td>5.00000</td>\n",
       "      <td>495.000000</td>\n",
       "      <td>495.000000</td>\n",
       "    </tr>\n",
       "    <tr>\n",
       "      <th>50%</th>\n",
       "      <td>1015.500000</td>\n",
       "      <td>1623.450000</td>\n",
       "      <td>780.550000</td>\n",
       "      <td>60.000000</td>\n",
       "      <td>7.00000</td>\n",
       "      <td>775.900000</td>\n",
       "      <td>775.900000</td>\n",
       "    </tr>\n",
       "    <tr>\n",
       "      <th>75%</th>\n",
       "      <td>1022.750000</td>\n",
       "      <td>2246.900000</td>\n",
       "      <td>1111.110000</td>\n",
       "      <td>70.000000</td>\n",
       "      <td>9.00000</td>\n",
       "      <td>1056.790000</td>\n",
       "      <td>1056.790000</td>\n",
       "    </tr>\n",
       "    <tr>\n",
       "      <th>max</th>\n",
       "      <td>1030.000000</td>\n",
       "      <td>2246.900000</td>\n",
       "      <td>1111.110000</td>\n",
       "      <td>70.000000</td>\n",
       "      <td>9.00000</td>\n",
       "      <td>1056.790000</td>\n",
       "      <td>1056.790000</td>\n",
       "    </tr>\n",
       "  </tbody>\n",
       "</table>\n",
       "</div>"
      ],
      "text/plain": [
       "       transaction_id  gross_sales         COGS  manufacturing_cost  \\\n",
       "count       30.000000    30.000000    30.000000           30.000000   \n",
       "mean      1015.500000  1623.450000   780.553333           60.000000   \n",
       "std          8.803408   517.747044   274.510986            8.304548   \n",
       "min       1001.000000  1000.000000   450.000000           50.000000   \n",
       "25%       1008.250000  1000.000000   450.000000           50.000000   \n",
       "50%       1015.500000  1623.450000   780.550000           60.000000   \n",
       "75%       1022.750000  2246.900000  1111.110000           70.000000   \n",
       "max       1030.000000  2246.900000  1111.110000           70.000000   \n",
       "\n",
       "       freight_cost    net_sales       profit  \n",
       "count      30.00000    30.000000    30.000000  \n",
       "mean        7.00000   775.896667   775.896667  \n",
       "std         1.66091   233.270601   233.270601  \n",
       "min         5.00000   495.000000   495.000000  \n",
       "25%         5.00000   495.000000   495.000000  \n",
       "50%         7.00000   775.900000   775.900000  \n",
       "75%         9.00000  1056.790000  1056.790000  \n",
       "max         9.00000  1056.790000  1056.790000  "
      ]
     },
     "metadata": {},
     "output_type": "display_data"
    }
   ],
   "source": [
    "# Basic EDA\n",
    "print('Shape:', df.shape)\n",
    "print('\\nMissing values:\\n', df.isnull().sum())\n",
    "display(df.describe())\n"
   ]
  },
  {
   "cell_type": "code",
   "execution_count": 3,
   "id": "7ff556e8",
   "metadata": {},
   "outputs": [
    {
     "data": {
      "image/png": "[encoded data removed]",
      "text/plain": [
       "<Figure size 1000x500 with 1 Axes>"
      ]
     },
     "metadata": {},
     "output_type": "display_data"
    }
   ],
   "source": [
    "# Convert date and plot time series\n",
    "df['date'] = pd.to_datetime(df['date'])\n",
    "ts = df.groupby('date')[['gross_sales','net_sales','profit']].sum().reset_index()\n",
    "plt.figure(figsize=(10,5))\n",
    "plt.plot(ts['date'], ts['gross_sales'], label='Gross Sales')\n",
    "plt.plot(ts['date'], ts['net_sales'], label='Net Sales')\n",
    "plt.plot(ts['date'], ts['profit'], label='Profit')\n",
    "plt.legend()\n",
    "plt.title('Time series of Sales Metrics')\n",
    "plt.xlabel('Date')\n",
    "plt.ylabel('Amount')\n",
    "plt.grid(True)\n",
    "plt.show()\n"
   ]
  },
  {
   "cell_type": "markdown",
   "id": "7f24a84d",
   "metadata": {},
   "source": [
    "## Suggested Research Questions (pick 1-2)\n",
    "1. How do manufacturing and freight costs affect net sales and profit over time?\n",
    "2. Is there seasonality or clear trends in gross/net sales across the sample period?\n",
    "3. Which cost component (COGS, manuf, freight) contributes most to margin variability?\n"
   ]
  },
  {
   "cell_type": "code",
   "execution_count": 4,
   "id": "cc519ece",
   "metadata": {},
   "outputs": [
    {
     "data": {
      "image/png": "[encoded data removed]",
      "text/plain": [
       "<Figure size 1000x500 with 1 Axes>"
      ]
     },
     "metadata": {},
     "output_type": "display_data"
    }
   ],
   "source": [
    "# Cost breakdown plot\n",
    "costs = df.groupby('date')[['COGS','manufacturing_cost','freight_cost']].sum().reset_index()\n",
    "costs = costs.set_index('date')\n",
    "costs.plot(kind='bar', stacked=True, figsize=(10,5))\n",
    "plt.title('Daily Cost Breakdown')\n",
    "plt.ylabel('Amount')\n",
    "plt.tight_layout()\n",
    "plt.show()\n"
   ]
  },
  {
   "cell_type": "markdown",
   "id": "017d0c34",
   "metadata": {},
   "source": [
    "## Exporting results\n",
    "- Save cleaned data to `/outputs`\n",
    "- Save figures to `/outputs`\n"
   ]
  },
  {
   "cell_type": "code",
   "execution_count": 5,
   "id": "846a18b3",
   "metadata": {},
   "outputs": [
    {
     "name": "stdout",
     "output_type": "stream",
     "text": [
      "Saved cleaned dataset to ..\\outputs\\cleaned_sales.csv\n"
     ]
    }
   ],
   "source": [
    "OUT = Path('../outputs')\n",
    "OUT.mkdir(parents=True, exist_ok=True)\n",
    "df.to_csv(OUT / 'cleaned_sales.csv', index=False)\n",
    "print('Saved cleaned dataset to', OUT / 'cleaned_sales.csv')\n"
   ]
  }
 ],
 "metadata": {
  "kernelspec": {
   "display_name": "Python 3 (ipykernel)",
   "language": "python",
   "name": "python3"
  },
  "language_info": {
   "codemirror_mode": {
    "name": "ipython",
    "version": 3
   },
   "file_extension": ".py",
   "mimetype": "text/x-python",
   "name": "python",
   "nbconvert_exporter": "python",
   "pygments_lexer": "ipython3",
   "version": "3.11.7"
  }
 },
 "nbformat": 4,
 "nbformat_minor": 5
}
