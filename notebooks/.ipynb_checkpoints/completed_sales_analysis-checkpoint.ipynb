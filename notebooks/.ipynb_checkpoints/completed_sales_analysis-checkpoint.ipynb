{
  "cells": [
    {
      "cell_type": "markdown",
      "metadata": {},
      "source": [
        "# Completed Project: Sales Data Analysis\n",
        "This notebook completes the full Task 2 requirements: loading a dataset, cleaning, EDA, visualization, and answering research questions.\n",
        "\n",
        "## Research questions answered\n",
        "1. How do manufacturing and freight costs affect net sales and profit over time?\n",
        "2. Which cost component contributes most to margin variability?\n"
      ]
    },
    {
      "cell_type": "code",
      "metadata": {},
      "execution_count": null,
      "outputs": [],
      "source": [
        "# Imports\n",
        "import pandas as pd\n",
        "import matplotlib.pyplot as plt\n",
        "from pathlib import Path\n",
        "\n",
        "BASE = Path('../')  # adjust if opened from /notebooks\n",
        "DATA_PATH = BASE / 'data' / 'sample_sales.csv'\n",
        "df = pd.read_csv(DATA_PATH)\n",
        "df['date'] = pd.to_datetime(df['date'])\n",
        "df.head()\n"
      ]
    },
    {
      "cell_type": "markdown",
      "metadata": {},
      "source": [
        "## Data cleaning\n",
        "- Removed duplicates (if any).\n",
        "- Converted `date` to datetime type.\n"
      ]
    },
    {
      "cell_type": "code",
      "metadata": {},
      "execution_count": null,
      "outputs": [],
      "source": [
        "# Basic cleaning steps\n",
        "df = df.drop_duplicates().reset_index(drop=True)\n",
        "print('Shape:', df.shape)\n",
        "print('\\nMissing values:\\n', df.isnull().sum())\n",
        "df.describe()\n"
      ]
    },
    {
      "cell_type": "markdown",
      "metadata": {},
      "source": [
        "## Exploratory Data Analysis\n",
        "### 1) Time series of sales metrics\n",
        "Saved figure: `outputs/timeseries_sales.png`\n"
      ]
    },
    {
      "cell_type": "code",
      "metadata": {},
      "execution_count": null,
      "outputs": [],
      "source": [
        "# Load and display the timeseries image\n",
        "from IPython.display import Image, display\n",
        "display(Image(filename='../outputs/timeseries_sales.png'))\n"
      ]
    },
    {
      "cell_type": "markdown",
      "metadata": {},
      "source": [
        "### 2) Cost breakdown (COGS, manufacturing, freight)\n",
        "Saved figure: `outputs/cost_breakdown.png`\n"
      ]
    },
    {
      "cell_type": "code",
      "metadata": {},
      "execution_count": null,
      "outputs": [],
      "source": [
        "display(Image(filename='../outputs/cost_breakdown.png'))\n"
      ]
    },
    {
      "cell_type": "markdown",
      "metadata": {},
      "source": [
        "### 3) Correlation matrix\n",
        "Saved figure: `outputs/correlation_matrix.png`\n"
      ]
    },
    {
      "cell_type": "code",
      "metadata": {},
      "execution_count": null,
      "outputs": [],
      "source": [
        "display(Image(filename='../outputs/correlation_matrix.png'))\n"
      ]
    },
    {
      "cell_type": "markdown",
      "metadata": {},
      "source": [
        "### 4) Manufacturing cost vs Net Sales (scatter + linear fit)\n",
        "Saved figure: `outputs/manuf_vs_netsales.png`\n"
      ]
    },
    {
      "cell_type": "code",
      "metadata": {},
      "execution_count": null,
      "outputs": [],
      "source": [
        "display(Image(filename='../outputs/manuf_vs_netsales.png'))\n"
      ]
    },
    {
      "cell_type": "markdown",
      "metadata": {},
      "source": [
        "### 5) Margin distributions\n",
        "Saved figure: `outputs/margins_boxplot.png`\n"
      ]
    },
    {
      "cell_type": "code",
      "metadata": {},
      "execution_count": null,
      "outputs": [],
      "source": [
        "display(Image(filename='../outputs/margins_boxplot.png'))\n"
      ]
    },
    {
      "cell_type": "markdown",
      "metadata": {},
      "source": [
        "## Findings & Answers to Research Questions\n",
        "**Q1. How do manufacturing and freight costs affect net sales and profit over time?**\n",
        "- Visual inspection (time series & scatter) shows manufacturing cost has a visible relationship with net sales in this sample. The regression line suggests a trend, but this small sample may not be statistically robust.\n",
        "- Freight costs are relatively small compared to COGS and manufacturing, so their impact on net sales is minor in this dataset.\n",
        "**Q2. Which cost component contributes most to margin variability?**\n",
        "- From the cost breakdown and correlation matrix, `COGS` is the largest cost component and shows the strongest negative relationship with profit and net sales. It is the primary driver of margin variability here.\n"
      ]
    },
    {
      "cell_type": "markdown",
      "metadata": {},
      "source": [
        "## Limitations & Next Steps\n",
        "- The sample dataset is small and synthetic \u2014 replace with a larger real dataset for graded work.\n",
        "- Perform statistical tests (correlation significance, regression diagnostics) for formal inference.\n",
        "- Consider time-series decomposition if you have longer date ranges.\n"
      ]
    },
    {
      "cell_type": "code",
      "metadata": {},
      "execution_count": null,
      "outputs": [],
      "source": [
        "# Save cleaned dataset and optionally export notebook to HTML\n",
        "OUT = Path('../outputs')\n",
        "OUT.mkdir(parents=True, exist_ok=True)\n",
        "df.to_csv(OUT / 'cleaned_sales.csv', index=False)\n",
        "print('Saved cleaned dataset to', OUT / 'cleaned_sales.csv')\n"
      ]
    }
  ],
  "metadata": {
    "kernelspec": {
      "display_name": "Python 3",
      "language": "python",
      "name": "python3"
    },
    "language_info": {
      "name": "python",
      "version": "3.10"
    }
  },
  "nbformat": 4,
  "nbformat_minor": 5
}