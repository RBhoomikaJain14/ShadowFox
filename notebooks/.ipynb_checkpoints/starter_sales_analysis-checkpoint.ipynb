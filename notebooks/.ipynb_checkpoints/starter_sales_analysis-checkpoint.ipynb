{
  "cells": [
    {
      "cell_type": "markdown",
      "metadata": {},
      "source": [
        "# Project: Sales Data Analysis (Starter Notebook)\n",
        "\n",
        "**Objective:** Example notebook to show how to explore a dataset, ask research questions, and visualize results.\n",
        "\n",
        "## Folder structure\n",
        "- `/data` : raw datasets (sample_sales.csv)\n",
        "- `/notebooks` : Jupyter notebooks\n",
        "- `/scripts` : helper scripts\n",
        "- `/outputs` : figures and exported results\n",
        "\n",
        "## How to run\n",
        "1. Open this notebook in JupyterLab or Jupyter Notebook.\n",
        "2. Install requirements: `pip install pandas matplotlib seaborn notebook`.\n",
        "\n",
        "----\n"
      ]
    },
    {
      "cell_type": "code",
      "execution_count": null,
      "metadata": {},
      "outputs": [],
      "source": [
        "# Imports\n",
        "import pandas as pd\n",
        "import matplotlib.pyplot as plt\n",
        "import seaborn as sns\n",
        "from pathlib import Path\n",
        "\n",
        "DATA_PATH = Path('../data/sample_sales.csv')  # adjust if opened from /notebooks\n",
        "df = pd.read_csv(DATA_PATH)\n",
        "df.head()\n"
      ]
    },
    {
      "cell_type": "markdown",
      "metadata": {},
      "source": [
        "## Quick EDA\n",
        "- Check missing values\n",
        "- Summary statistics\n",
        "- Time series of gross and net sales\n"
      ]
    },
    {
      "cell_type": "code",
      "execution_count": null,
      "metadata": {},
      "outputs": [],
      "source": [
        "# Basic EDA\n",
        "print('Shape:', df.shape)\n",
        "print('\\nMissing values:\\n', df.isnull().sum())\n",
        "display(df.describe())\n"
      ]
    },
    {
      "cell_type": "code",
      "execution_count": null,
      "metadata": {},
      "outputs": [],
      "source": [
        "# Convert date and plot time series\n",
        "df['date'] = pd.to_datetime(df['date'])\n",
        "ts = df.groupby('date')[['gross_sales','net_sales','profit']].sum().reset_index()\n",
        "plt.figure(figsize=(10,5))\n",
        "plt.plot(ts['date'], ts['gross_sales'], label='Gross Sales')\n",
        "plt.plot(ts['date'], ts['net_sales'], label='Net Sales')\n",
        "plt.plot(ts['date'], ts['profit'], label='Profit')\n",
        "plt.legend()\n",
        "plt.title('Time series of Sales Metrics')\n",
        "plt.xlabel('Date')\n",
        "plt.ylabel('Amount')\n",
        "plt.grid(True)\n",
        "plt.show()\n"
      ]
    },
    {
      "cell_type": "markdown",
      "metadata": {},
      "source": [
        "## Suggested Research Questions (pick 1-2)\n",
        "1. How do manufacturing and freight costs affect net sales and profit over time?\n",
        "2. Is there seasonality or clear trends in gross/net sales across the sample period?\n",
        "3. Which cost component (COGS, manuf, freight) contributes most to margin variability?\n"
      ]
    },
    {
      "cell_type": "code",
      "execution_count": null,
      "metadata": {},
      "outputs": [],
      "source": [
        "# Cost breakdown plot\n",
        "costs = df.groupby('date')[['COGS','manufacturing_cost','freight_cost']].sum().reset_index()\n",
        "costs = costs.set_index('date')\n",
        "costs.plot(kind='bar', stacked=True, figsize=(10,5))\n",
        "plt.title('Daily Cost Breakdown')\n",
        "plt.ylabel('Amount')\n",
        "plt.tight_layout()\n",
        "plt.show()\n"
      ]
    },
    {
      "cell_type": "markdown",
      "metadata": {},
      "source": [
        "## Exporting results\n",
        "- Save cleaned data to `/outputs`\n",
        "- Save figures to `/outputs`\n"
      ]
    },
    {
      "cell_type": "code",
      "execution_count": null,
      "metadata": {},
      "outputs": [],
      "source": [
        "OUT = Path('../outputs')\n",
        "OUT.mkdir(parents=True, exist_ok=True)\n",
        "df.to_csv(OUT / 'cleaned_sales.csv', index=False)\n",
        "print('Saved cleaned dataset to', OUT / 'cleaned_sales.csv')\n"
      ]
    }
  ],
  "metadata": {
    "kernelspec": {
      "display_name": "Python 3",
      "language": "python",
      "name": "python3"
    },
    "language_info": {
      "name": "python",
      "version": "3.10"
    }
  },
  "nbformat": 4,
  "nbformat_minor": 5
}