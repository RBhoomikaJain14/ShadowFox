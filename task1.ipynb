{
 "cells": [
  {
   "cell_type": "code",
   "execution_count": 3,
   "id": "5f9f1e0b-45ed-437a-a3ce-608f215462eb",
   "metadata": {},
   "outputs": [
    {
     "name": "stdout",
     "output_type": "stream",
     "text": [
      "<class 'float'>\n"
     ]
    }
   ],
   "source": [
    "#variables\n",
    "#1\n",
    "myvar='pi'\n",
    "pi=22/7\n",
    "print(type(pi))"
   ]
  },
  {
   "cell_type": "code",
   "execution_count": 2,
   "id": "b642ef8b-4d84-4b04-ab9d-ae66c544f6bb",
   "metadata": {},
   "outputs": [
    {
     "ename": "SyntaxError",
     "evalue": "invalid syntax (3639871942.py, line 1)",
     "output_type": "error",
     "traceback": [
      "\u001b[1;36m  Cell \u001b[1;32mIn[2], line 1\u001b[1;36m\u001b[0m\n\u001b[1;33m    for=4\u001b[0m\n\u001b[1;37m       ^\u001b[0m\n\u001b[1;31mSyntaxError\u001b[0m\u001b[1;31m:\u001b[0m invalid syntax\n"
     ]
    }
   ],
   "source": [
    "#2\n",
    "for=4\n",
    "#because for,if,else,while and other few are like reserved keywords cannot be used as identifiers so we get error"
   ]
  },
  {
   "cell_type": "code",
   "execution_count": 5,
   "id": "9f4140da-74cf-45a4-bb81-287562f09943",
   "metadata": {},
   "outputs": [
    {
     "name": "stdout",
     "output_type": "stream",
     "text": [
      "simple interest 3000.0\n"
     ]
    }
   ],
   "source": [
    "#3\n",
    "P=10000\n",
    "R=10\n",
    "T=3\n",
    "SI=(P*R*T)/100\n",
    "print(\"simple interest\",SI)\n"
   ]
  },
  {
   "cell_type": "code",
   "execution_count": 7,
   "id": "541ae400-e791-4aa7-86dd-9021a493b8a8",
   "metadata": {},
   "outputs": [
    {
     "name": "stdout",
     "output_type": "stream",
     "text": [
      "221\n"
     ]
    }
   ],
   "source": [
    "#numbers\n",
    "#1\n",
    "def format_number(num,fmt):\n",
    "    return format(num,fmt)\n",
    "result =format_number(145,'o')\n",
    "print(result)"
   ]
  },
  {
   "cell_type": "code",
   "execution_count": 1,
   "id": "51ab9745-1384-4191-b729-5f5006b626e3",
   "metadata": {},
   "outputs": [
    {
     "name": "stdout",
     "output_type": "stream",
     "text": [
      "31018\n"
     ]
    }
   ],
   "source": [
    "#2\n",
    "pi=3.14\n",
    "r=84\n",
    "area=pi*(r**2)\n",
    "water_per_square_meter=1.4\n",
    "total_water=area*water_per_square_meter\n",
    "print(int(total_water))"
   ]
  },
  {
   "cell_type": "code",
   "execution_count": 8,
   "id": "fe65badf-0a1c-4dce-956f-192b2217002c",
   "metadata": {},
   "outputs": [
    {
     "name": "stdout",
     "output_type": "stream",
     "text": [
      "1\n"
     ]
    }
   ],
   "source": [
    "#3\n",
    "distance=490\n",
    "time_minute=7\n",
    "time_seconds=time_minute*60\n",
    "speed=distance/time_seconds\n",
    "print(int(speed))"
   ]
  },
  {
   "cell_type": "code",
   "execution_count": 11,
   "id": "796668cf-d043-40ad-9065-3dd69ea9ed23",
   "metadata": {},
   "outputs": [
    {
     "name": "stdout",
     "output_type": "stream",
     "text": [
      "1️ Original team: ['Superman', 'Batman', 'Wonder Woman', 'Flash', 'Aquaman', 'Green Lantern']\n",
      "2️ Number of members: 6\n",
      "3️ After adding new members: ['Superman', 'Batman', 'Wonder Woman', 'Flash', 'Aquaman', 'Green Lantern', 'Batgirl', 'Nightwing']\n",
      "4️ After making Wonder Woman leader: ['Wonder Woman', 'Superman', 'Batman', 'Flash', 'Aquaman', 'Green Lantern', 'Batgirl', 'Nightwing']\n",
      "5️ After separating Flash and Aquaman: ['Wonder Woman', 'Batman', 'Flash', 'Superman', 'Aquaman', 'Green Lantern', 'Batgirl', 'Nightwing']\n",
      "6️ New team formed: ['Cyborg', 'Shazam', 'Hawkgirl', 'Martian Manhunter', 'Green Arrow']\n",
      "7️ After sorting alphabetically: ['Cyborg', 'Green Arrow', 'Hawkgirl', 'Martian Manhunter', 'Shazam']\n",
      " New leader (0th index): Cyborg\n"
     ]
    }
   ],
   "source": [
    "#list\n",
    "#1\n",
    "#Create the original list\n",
    "justice_league = [\"Superman\", \"Batman\", \"Wonder Woman\", \"Flash\", \"Aquaman\", \"Green Lantern\"]\n",
    "print(\"1️ Original team:\", justice_league)\n",
    "#Calculate number of members\n",
    "print(\"2️ Number of members:\", len(justice_league))\n",
    "#Add Batgirl and Nightwing\n",
    "justice_league.append(\"Batgirl\")\n",
    "justice_league.append(\"Nightwing\")\n",
    "print(\"3️ After adding new members:\", justice_league)\n",
    "#Step Make Wonder Woman the leader (move to beginning)\n",
    "justice_league.remove(\"Wonder Woman\")      \n",
    "justice_league.insert(0, \"Wonder Woman\")  \n",
    "print(\"4️ After making Wonder Woman leader:\", justice_league)\n",
    "#Separate Flash and Aquaman by moving Superman in between\n",
    "justice_league.remove(\"Superman\")        \n",
    "flash_index = justice_league.index(\"Flash\")\n",
    "justice_league.insert(flash_index + 1, \"Superman\")\n",
    "print(\"5️ After separating Flash and Aquaman:\", justice_league)\n",
    "#Crisis - new team formed\n",
    "justice_league = [\"Cyborg\", \"Shazam\", \"Hawkgirl\", \"Martian Manhunter\", \"Green Arrow\"]\n",
    "print(\"6️ New team formed:\", justice_league)\n",
    "#Sort alphabetically and find new leader\n",
    "justice_league.sort()\n",
    "print(\"7️ After sorting alphabetically:\", justice_league)\n",
    "print(\" New leader (0th index):\", justice_league[0])"
   ]
  },
  {
   "cell_type": "code",
   "execution_count": 13,
   "id": "6f3b4bf4-39d7-42da-9355-51a9bdf5a636",
   "metadata": {},
   "outputs": [
    {
     "name": "stdin",
     "output_type": "stream",
     "text": [
      "enter height in meters 1.75\n",
      "enter weight in kilograms 70\n"
     ]
    },
    {
     "name": "stdout",
     "output_type": "stream",
     "text": [
      "normal\n"
     ]
    }
   ],
   "source": [
    "#if condition\n",
    "#1\n",
    "height=float(input(\"enter height in meters\"))\n",
    "weight=float(input(\"enter weight in kilograms\"))\n",
    "bmi=weight/(height**2)\n",
    "if bmi >= 30:\n",
    "    print('obesity')\n",
    "elif bmi >= 25:\n",
    "    print('overweight')\n",
    "elif bmi >=18.5:\n",
    "    print('normal')\n",
    "else:\n",
    "    print('underweight')"
   ]
  },
  {
   "cell_type": "code",
   "execution_count": 15,
   "id": "cd8f914f-e419-4679-a4a8-879ff8bf7bb1",
   "metadata": {},
   "outputs": [
    {
     "name": "stdin",
     "output_type": "stream",
     "text": [
      "enter the city name Abu Dhabi\n"
     ]
    },
    {
     "name": "stdout",
     "output_type": "stream",
     "text": [
      "Abu Dhabi in UAE\n"
     ]
    }
   ],
   "source": [
    "#2\n",
    "Australia = [\"Sydney\",\"Melbourne\",\"Brisbane\",\"Perth\"]\n",
    "UAE = [\"Dubai\",\"Abu Dhabi\",\"Sharjah\",\"Ajman\"]\n",
    "India = [\"Mumbai\",\"Bangalore\",\"Chennai\",\"Delhi\"]\n",
    "city=input(\"enter the city name\")\n",
    "if city in Australia:\n",
    "    print(f\"{city}in australia\")\n",
    "elif city in UAE:\n",
    "    print(f\"{city} in UAE\")\n",
    "elif city in India:\n",
    "    print(f\"{city} in India\")\n",
    "else:\n",
    "    print(\"city not found in the lists given\")\n"
   ]
  },
  {
   "cell_type": "code",
   "execution_count": 17,
   "id": "a3a55dcf-c8f1-4608-9981-4a5d0406870d",
   "metadata": {},
   "outputs": [
    {
     "name": "stdin",
     "output_type": "stream",
     "text": [
      "Enter the first city:  Mumbai\n",
      "Enter the second city:  Chennai\n"
     ]
    },
    {
     "name": "stdout",
     "output_type": "stream",
     "text": [
      "Both cities are in India\n"
     ]
    }
   ],
   "source": [
    "#3\n",
    "city1 = input(\"Enter the first city: \")\n",
    "city2 = input(\"Enter the second city: \")\n",
    "if city1 in Australia:\n",
    "    country1 = \"Australia\"\n",
    "elif city1 in UAE:\n",
    "    country1 = \"UAE\"\n",
    "elif city1 in India:\n",
    "    country1 = \"India\"\n",
    "else:\n",
    "    country1 = None\n",
    "if city2 in Australia:\n",
    "    country2 = \"Australia\"\n",
    "elif city2 in UAE:\n",
    "    country2 = \"UAE\"\n",
    "elif city2 in India:\n",
    "    country2 = \"India\"\n",
    "else:\n",
    "    country2 = None\n",
    "if country1 and country2: \n",
    "    if country1 == country2:\n",
    "        print(f\"Both cities are in {country1}\")\n",
    "    else:\n",
    "        print(\"They don't belong to the same country\")\n",
    "else:\n",
    "    print(\"One or both cities are not in the lists\")\n",
    "    "
   ]
  },
  {
   "cell_type": "code",
   "execution_count": 2,
   "id": "233b095c-d492-4749-b06b-12f452661c4e",
   "metadata": {},
   "outputs": [
    {
     "name": "stdout",
     "output_type": "stream",
     "text": [
      "roll 1: 6\n",
      "roll 2: 5\n",
      "roll 3: 4\n",
      "roll 4: 2\n",
      "roll 5: 3\n",
      "roll 6: 2\n",
      "roll 7: 1\n",
      "roll 8: 6\n",
      "roll 9: 6\n",
      "roll 10: 4\n",
      "roll 11: 1\n",
      "roll 12: 2\n",
      "roll 13: 5\n",
      "roll 14: 4\n",
      "roll 15: 4\n",
      "roll 16: 6\n",
      "roll 17: 4\n",
      "roll 18: 6\n",
      "roll 19: 4\n",
      "roll 20: 4\n",
      "\n",
      "result\n",
      "number of times rolled 6 5\n",
      "number of times rolled 1 2\n",
      "number of times two sixs appeared in a row 1\n"
     ]
    }
   ],
   "source": [
    "#for loop\n",
    "#1\n",
    "import random\n",
    "count_six=0\n",
    "count_one=0\n",
    "count_two_six_in_a_row=0\n",
    "previous_roll=0\n",
    "for i in range(20):\n",
    "    roll=random.randint(1,6)\n",
    "    print(f\"roll {i+1}: {roll}\")\n",
    "    if roll == 6:\n",
    "        count_six+=1\n",
    "    if roll == 1:\n",
    "        count_one+=1\n",
    "    if roll == 6 and previous_roll == 6:\n",
    "        count_two_six_in_a_row+=1\n",
    "    previous_roll=roll\n",
    "print(\"\\nresult\")\n",
    "print(\"number of times rolled 6\", count_six)\n",
    "print(\"number of times rolled 1\", count_one)\n",
    "print(\"number of times two sixs appeared in a row\",count_two_six_in_a_row)"
   ]
  },
  {
   "cell_type": "code",
   "execution_count": 6,
   "id": "6d6ff6c8-aa1f-4610-918f-5dd6c4faaff5",
   "metadata": {},
   "outputs": [
    {
     "name": "stdout",
     "output_type": "stream",
     "text": [
      "you completed10 jumping jacks\n"
     ]
    },
    {
     "name": "stdin",
     "output_type": "stream",
     "text": [
      "are u tired?(yes/no) yes\\\n"
     ]
    },
    {
     "name": "stdout",
     "output_type": "stream",
     "text": [
      " 90 jumping jacks remaining\n",
      "\n",
      "you completed20 jumping jacks\n"
     ]
    },
    {
     "name": "stdin",
     "output_type": "stream",
     "text": [
      "are u tired?(yes/no) no\n"
     ]
    },
    {
     "name": "stdout",
     "output_type": "stream",
     "text": [
      " 80 jumping jacks remaining\n",
      "\n",
      "you completed30 jumping jacks\n"
     ]
    },
    {
     "name": "stdin",
     "output_type": "stream",
     "text": [
      "are u tired?(yes/no) yes\n",
      "do you want to skip remaining sets?(yes/no): yes\n"
     ]
    },
    {
     "name": "stdout",
     "output_type": "stream",
     "text": [
      "you completed a total of 30 jumping jacks.\n"
     ]
    }
   ],
   "source": [
    "#2\n",
    "total=0\n",
    "for i in range(10):\n",
    "    total+=10\n",
    "    print(f\"you completed{total} jumping jacks\")\n",
    "    if total==100:\n",
    "        print(\"congrats! you completed the workout\")\n",
    "        break\n",
    "    tired = input(\"are u tired?(yes/no)\").lower()\n",
    "    if tired in [\"yes\",\"y\"]:\n",
    "        skip=input(\"do you want to skip remaining sets?(yes/no):\").lower()\n",
    "        if skip in[\"yes\",\"y\"]:\n",
    "            print(f\"you completed a total of {total} jumping jacks.\")\n",
    "            break\n",
    "        else:\n",
    "            print(f\"good job! {100-total} jumping jacks remaining.\\n\")\n",
    "    else:\n",
    "        print(f\" {100-total} jumping jacks remaining\\n\")"
   ]
  },
  {
   "cell_type": "code",
   "execution_count": null,
   "id": "32219c9c-f80b-4cab-b48c-7b4b565bff8c",
   "metadata": {},
   "outputs": [],
   "source": []
  }
 ],
 "metadata": {
  "kernelspec": {
   "display_name": "Python 3 (ipykernel)",
   "language": "python",
   "name": "python3"
  },
  "language_info": {
   "codemirror_mode": {
    "name": "ipython",
    "version": 3
   },
   "file_extension": ".py",
   "mimetype": "text/x-python",
   "name": "python",
   "nbconvert_exporter": "python",
   "pygments_lexer": "ipython3",
   "version": "3.11.7"
  }
 },
 "nbformat": 4,
 "nbformat_minor": 5
}
